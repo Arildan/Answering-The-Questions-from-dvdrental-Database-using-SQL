{
 "cells": [
  {
   "cell_type": "code",
   "execution_count": 6,
   "metadata": {},
   "outputs": [],
   "source": [
    "def biodata():\n",
    "    name = input('input your name:')\n",
    "    address = input('input your address:')\n",
    "    dob = input('input your date of birthday:')\n",
    "    \n",
    "    print(f'My name is {name}, I live in {address}, I was born on {dob}')"
   ]
  },
  {
   "cell_type": "code",
   "execution_count": 7,
   "metadata": {},
   "outputs": [
    {
     "name": "stdout",
     "output_type": "stream",
     "text": [
      "input your name:syamil\n",
      "input your address:jakarta\n",
      "input your date of birthday:11 April 1996\n",
      "My name is syamil, I live in jakarta, I was born on 11 April 1996\n"
     ]
    }
   ],
   "source": [
    "biodata()"
   ]
  }
 ],
 "metadata": {
  "kernelspec": {
   "display_name": "Python 3",
   "language": "python",
   "name": "python3"
  },
  "language_info": {
   "codemirror_mode": {
    "name": "ipython",
    "version": 3
   },
   "file_extension": ".py",
   "mimetype": "text/x-python",
   "name": "python",
   "nbconvert_exporter": "python",
   "pygments_lexer": "ipython3",
   "version": "3.7.4"
  }
 },
 "nbformat": 4,
 "nbformat_minor": 2
}
